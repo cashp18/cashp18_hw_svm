{
 "cells": [
  {
   "cell_type": "code",
   "execution_count": 1,
   "id": "c06bc7d3",
   "metadata": {},
   "outputs": [
    {
     "name": "stderr",
     "output_type": "stream",
     "text": [
      "/home/philiptcash1/machineLearning/machineLearningEnv/lib/python3.6/site-packages/sklearn/model_selection/_search.py:289: UserWarning: The total space of parameters 3 is smaller than n_iter=10. Running 3 iterations. For exhaustive searches, use GridSearchCV.\n",
      "  % (grid_size, self.n_iter, grid_size), UserWarning)\n"
     ]
    },
    {
     "name": "stdout",
     "output_type": "stream",
     "text": [
      "best kernel param: {'kernel': 'poly'}\n",
      "orginal shape:     (1797, 64)\n",
      "transformed shape: (1797, 12)\n",
      "score with poly: 0.9888678668348432\n",
      "score with rbf: 0.9882524939800481\n",
      "score with linear: 0.9789741237625653\n"
     ]
    },
    {
     "data": {
      "image/png": "[encoded data removed]",
      "text/plain": [
       "<Figure size 432x288 with 1 Axes>"
      ]
     },
     "metadata": {},
     "output_type": "display_data"
    }
   ],
   "source": [
    "%matplotlib inline\n",
    "import numpy as np\n",
    "import matplotlib.pyplot as plt\n",
    "from sklearn.model_selection import cross_val_score\n",
    "from sklearn.metrics import accuracy_score\n",
    "from sklearn.model_selection import RandomizedSearchCV\n",
    "from sklearn.model_selection import train_test_split\n",
    "from scipy import stats\n",
    "from sklearn.decomposition import PCA\n",
    "from sklearn.svm import SVC\n",
    "\n",
    "# use seaborn plotting defaults\n",
    "import seaborn as sns; sns.set()\n",
    "from sklearn import datasets, svm, metrics\n",
    "\n",
    "# The digits dataset\n",
    "digits = datasets.load_digits()\n",
    "\n",
    "def plot_digits(data):\n",
    "    fig, axes = plt.subplots(4, 10, figsize=(10, 4),\n",
    "                             subplot_kw={'xticks':[], 'yticks':[]},\n",
    "                             gridspec_kw=dict(hspace=0.1, wspace=0.1))\n",
    "    for i, ax in enumerate(axes.flat):\n",
    "        ax.imshow(data[i].reshape(8, 8),\n",
    "                  cmap='binary', interpolation='nearest',\n",
    "                  clim=(0, 16))\n",
    "#plot_digits(digits.data)\n",
    "\n",
    "#Displayed cumulative explained variance to find optimal num_of_components\n",
    "pca = PCA().fit(digits.data)\n",
    "plt.xlim(5,15)\n",
    "plt.plot(np.cumsum(pca.explained_variance_ratio_))\n",
    "plt.xlabel('number of components')\n",
    "plt.ylabel('cumulative explained variance');\n",
    "\n",
    "#tuning hyperparamters; best param is poly\n",
    "x_train, x_test, y_train, y_test = train_test_split(digits.data, digits.target, random_state=0, train_size=.9)\n",
    "svm_kernel = {'kernel': np.array(['linear', 'poly', 'rbf'])}\n",
    "svm = RandomizedSearchCV(SVC(), svm_kernel)\n",
    "svm.fit(x_train, y_train)\n",
    "svm.best_params_\n",
    "print(\"best kernel param:\", svm.best_params_)\n",
    "\n",
    "\n",
    "#transoforming dataset with pca to reduce dimensions\n",
    "pca = PCA(n_components=12)\n",
    "pca.fit(digits.data)\n",
    "X_pca = pca.transform(digits.data)\n",
    "print(\"orginal shape:    \", digits.data.shape)\n",
    "print(\"transformed shape:\", X_pca.shape)\n",
    "\n",
    "\n",
    "#running SVC with 'poly' and 5-split cross_val_score\n",
    "model = SVC(kernel='poly')\n",
    "scores = cross_val_score(model, x_train, y_train, cv=5)\n",
    "print(\"score with poly:\", scores.mean())\n",
    "\n",
    "#running SVC with \"rbf\" and 5-split cross_val_score\n",
    "model = SVC(kernel='rbf')\n",
    "scores = cross_val_score(model, x_train, y_train, cv=5)\n",
    "print(\"score with rbf:\", scores.mean())\n",
    "\n",
    "#running SVC with \"linear\" and 5-split cross_val_score\n",
    "model = SVC(kernel='linear')\n",
    "scores = cross_val_score(model, x_train, y_train, cv=5)\n",
    "print(\"score with linear:\", scores.mean())"
   ]
  },
  {
   "cell_type": "code",
   "execution_count": null,
   "id": "c219aa75",
   "metadata": {},
   "outputs": [],
   "source": []
  }
 ],
 "metadata": {
  "kernelspec": {
   "display_name": "machineLearningEnv",
   "language": "python",
   "name": "machinelearningenv"
  },
  "language_info": {
   "codemirror_mode": {
    "name": "ipython",
    "version": 3
   },
   "file_extension": ".py",
   "mimetype": "text/x-python",
   "name": "python",
   "nbconvert_exporter": "python",
   "pygments_lexer": "ipython3",
   "version": "3.6.9"
  }
 },
 "nbformat": 4,
 "nbformat_minor": 5
}
